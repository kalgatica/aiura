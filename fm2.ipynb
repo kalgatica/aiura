%matplotlib inline
from mpl_toolkits.mplot3d import Axes3D
from matplotlib.pyplot import *
from numpy import *
from scipy.integrate import quad
style.use('classic')
R = 1.


def S(kmax,ph,r):
    S = 0
    for k in range(kmax+1):
        S = S + (1./(pi*(2k-1)*R**(2k-1)))*2*sin((2k-1)*ph))*(r**n)
    return S
k_ang = 120 #número de divisiones de la coordenada angular
k_radio = 50 #número de divisiones de la coordenada radial
radio = linspace(0.001, R, k_radio) #se define coordenada radial entre 0 y R
ang = linspace(0, 2*pi, k_ang) #se define coordenada angular entre 0 y 2 veces pi

r,p = meshgrid(radio,ang)

X = r*cos(p) #Define dominio en x
Y = r*sin(p) #Define dominio en y
k_max = 20 #número máximo de terminos de la serie truncada
Z = S(kmax, p, r) #valor del potencial

fig = figure()
pcolormesh(X, Y, Z, shading='gouraud')
xlabel('$x$',fontsize=15)
ylabel('$y$',fontsize=15)
title('$\psi(x,y)$',fontsize=15)
colorbar()
axes().set_aspect('equal', 'datalim')
